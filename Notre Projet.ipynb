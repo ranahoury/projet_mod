{
 "cells": [
  {
   "cell_type": "code",
   "execution_count": 200,
   "metadata": {},
   "outputs": [],
   "source": [
    "from random import*\n",
    "import numpy as np\n",
    "from pylab import*\n",
    "import matplotlib.pyplot as plt"
   ]
  },
  {
   "cell_type": "code",
   "execution_count": 230,
   "metadata": {},
   "outputs": [],
   "source": [
    "x=0.1\n",
    "y=0.1\n",
    "z=0.1\n",
    "a=0.1\n",
    "xn=0.1\n",
    "zn=0.1\n",
    "coopa=0.05\n",
    "coopm=0.05\n",
    "\n",
    "M0=np.array([[1-x, x, 0], [y, 1-y-z, z], [0, a, 1-a]])\n",
    "MT=np.array([[-xn, 0, xn], [0 ,-zn ,zn], [0, 0, 0]])\n",
    "Mcoopa=np.array([[0,0,0],[1,-1,0],[0,1,-1]])\n",
    "Mcoopm=np.array([[-1,1,0],[0,-1,1],[0,0,0]])\n",
    "\n",
    "PT=0.05"
   ]
  },
  {
   "cell_type": "code",
   "execution_count": 233,
   "metadata": {},
   "outputs": [],
   "source": [
    "def evol(nuc,T):\n",
    "    for i in range(2):\n",
    "        if T==0:\n",
    "            r=random()\n",
    "            if r<=PT:\n",
    "                nuc[i,1]=1\n",
    "        if T==1:\n",
    "            r=random()\n",
    "            if r<=PT:\n",
    "                nuc[1]=0\n",
    "        pourquoifairesimplequandonpeutfairecomplique=[0,1]\n",
    "        pourquoifairesimplequandonpeutfairecomplique.remove(i)\n",
    "        j=pourquoifairesimplequandonpeutfairecomplique[0]\n",
    "        M=M0+nuc[i,1]*MT\n",
    "        if nuc[j,0]==2:\n",
    "            M=M0+nuc[i,1]*MT+coopm*Mcoopm\n",
    "        if nuc[j,0]==0:\n",
    "            M=M0+nuc[i,1]*MT+coopa*Mcoopa\n",
    "        r=random()\n",
    "        if r<=M[nuc[i,0],0] :\n",
    "            nuc[i,0]=0\n",
    "        elif r<=(M[nuc[i,0],0]+M[nuc[i,0],1]) :\n",
    "            nuc[i,0]=1\n",
    "        else :\n",
    "            nuc[i,0]=2\n",
    "    return(nuc)\n",
    "\n",
    "def simulation(hiver, primptemps,n=35):\n",
    "    L=np.array([[[0,0],[0,0]] for i in range(n)])\n",
    "    T=0\n",
    "    for i in range(hiver):\n",
    "        for j in range(len(L)):\n",
    "            L[j]=evol(L[j],T)\n",
    "    T=1\n",
    "    for i in range(primptemps):\n",
    "        for j in range(len(L)):\n",
    "            L[j]=evol(L[j],T)\n",
    "    return(L)\n"
   ]
  },
  {
   "cell_type": "code",
   "execution_count": 358,
   "metadata": {},
   "outputs": [
    {
     "data": {
      "text/plain": [
       "array([[0, 0],\n",
       "       [1, 0]])"
      ]
     },
     "execution_count": 358,
     "metadata": {},
     "output_type": "execute_result"
    }
   ],
   "source": [
    "evol(np.array([[0,0],[0,0]]),0)"
   ]
  },
  {
   "cell_type": "code",
   "execution_count": 212,
   "metadata": {},
   "outputs": [
    {
     "data": {
      "image/png": "[encoded data removed]",
      "text/plain": [
       "<Figure size 432x288 with 1 Axes>"
      ]
     },
     "metadata": {},
     "output_type": "display_data"
    }
   ],
   "source": [
    "n=simulation(1000, 0)\n",
    "b=n.count([0, 0])\n",
    "c=n.count([0, 1])\n",
    "d=n.count([1, 0])\n",
    "e=n.count([1, 1])\n",
    "f=n.count([2, 0])\n",
    "g=n.count([2, 1])\n",
    "\n",
    "fig = plt.figure()\n",
    "\n",
    "h = [1,2,3,4,5,6]\n",
    "height = [b,c,d,e,f,g]\n",
    "width = 1.0\n",
    "BarName = ['[0, 0]','[0, 1]','[1, 0]','[1, 1]','[2, 0]','[2, 1]']\n",
    "\n",
    "plt.bar(h, height, width, color='b' )\n",
    "\n",
    "plt.xticks(h, BarName, rotation=40)\n",
    "plt.savefig('SimpleBar.png')\n",
    "plt.show()"
   ]
  }
 ],
 "metadata": {
  "kernelspec": {
   "display_name": "Python 3",
   "language": "python",
   "name": "python3"
  },
  "language_info": {
   "codemirror_mode": {
    "name": "ipython",
    "version": 3
   },
   "file_extension": ".py",
   "mimetype": "text/x-python",
   "name": "python",
   "nbconvert_exporter": "python",
   "pygments_lexer": "ipython3",
   "version": "3.6.5"
  }
 },
 "nbformat": 4,
 "nbformat_minor": 2
}
