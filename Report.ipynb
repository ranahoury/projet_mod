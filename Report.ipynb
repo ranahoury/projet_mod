{
 "cells": [
  {
   "cell_type": "markdown",
   "metadata": {},
   "source": [
    "# Modeling of a quantitative epigenetic memory in Arabidopsis Thaliana\n",
    "<br>\n",
    "### Achille Fraisse, Rana Houry, Kyrylo Krasnykov, Cécile Ligneau"
   ]
  },
  {
   "cell_type": "markdown",
   "metadata": {},
   "source": [
    "## Introduction\n",
    "<br>\n",
    "Data from \"A Polycomb-based switch underlying quantitative epigenetic memory\"\n",
    "<br>\n",
    "In this article, the authors work on the flowering of Arabidopsis, depending on the temperature. In fact, the cold has an effect on the epigenetic of the FLC gene which regulates the floral initiation. In summer the nucleosomes of the gene are slowly activated (for example by acetylation) whereas with the cold they are inactivated (by methylation).The parts of the nucleosomes that can be methylated are the histones H3 (two per nucleosome). This mechanism allows a \"winter memory\": the gene FLC is more and more inhibited by methylation with the cold. When spring comes back it is still methylated, promoting the flowering. Then with the high temperature it is slowly activated, and so the flowering doesn't begin directly at the begining of spring. Also nucleosomes are affected by the states of their neighbors, which means that when a nucleosome is activated it increases the chance of its neighbors to be activated as well and so it is when a nucleosome is methulated.\n",
    "<br>\n",
    "The authors modeled these epigenetic modifications with mathematical functions and in this project we used their data to model the modifications in Python. However, we changed some elements to make them functional in our system and to match our model. Also the values of some variables were chosen arbitrarily.  \n",
    "<br>\n",
    "In this system, when the cold arrives, the histones change between 3 states. They start by being activated and then they change to an undefined state followed by a methylated state. Moreover, in winter the histones can be nucleated which increases their probability to be in a methylated state. On the contrary, when the weather is warm they have a chance to be enucleated and to go to an activated state. "
   ]
  },
  {
   "cell_type": "markdown",
   "metadata": {},
   "source": [
    "# General Scheme of the Used Model\n",
    "![](Image1.png)\n",
    "### Angel, A., Song, J., Dean, C., and Howard, M. (2011). A Polycomb-based switch underlying quantitative epigenetic memory. Nature 476, 105–108."
   ]
  },
  {
   "cell_type": "markdown",
   "metadata": {},
   "source": [
    "## Mathematical model\n",
    "### Defining the parameters of our model\n",
    "<br>\n",
    "x = base probability to switch from A to U\n",
    " <br>\n",
    " y = base probability to switch from U to A\n",
    " <br>\n",
    " z = base probability to switch from U to M\n",
    " <br>\n",
    " a = base probability to switch from M to U\n",
    " <br>\n",
    " g = additional probability to the U->A and U->M transitions\n",
    " <br>\n",
    " coopa = the probability we add to the transition M->U  and U->A when neigbourh is acetylated\n",
    " <br>\n",
    " coopm = the probability we add to the transition A->U  and U->M when neigbourh is acetylated \n",
    " <br>\n",
    " eps = additional probability for A->M and U->M when there is nucleation\n",
    " <br>\n",
    " Pdn = probability in summer for the histone to be nucleated, this parameter has a fixed value given in the article\n",
    " <br>\n",
    " C = the maximum probability per sweep with which a locus can become competent to nucleate\n",
    " <br>\n",
    " K = effective \"dissociation constant\" for the time Ͳ dependent probability for a locus to become competent to nucleate\n",
    "\n",
    "For \"g\", \"eps\", \"Pdn\", \"C\" and \"K\", the values come from the article.\n",
    "<br>\n",
    "For the other variables we choose the values 4 x g arbitrarily. \n",
    "<br>\n",
    "### Matrices principle\n",
    "\n",
    "To represent our model in different conditions, we created four matrices built on the following matrix:\n",
    "\n",
    "$$\\begin{pmatrix} A\\rightarrow A & A\\rightarrow U & A\\rightarrow M \\\\ U\\rightarrow A & U\\rightarrow U & U\\rightarrow M \\\\ M\\rightarrow A & M\\rightarrow U & M\\rightarrow M \\end{pmatrix}$$\n",
    "\n",
    "### Matrices\n",
    " \n",
    "M0 is the matrix for histones with no nucleation and non-depending on the other histones state.\n",
    "In this matrix g illustrates the fact that when the histone is in an undefined state, it changes toward another state, methylation or activation, with the same probability.\n",
    "\n",
    "$$\\mathbf{M_0}$$\n",
    "$$\\hspace{10pt} \\begin{matrix} \\hspace{30pt} \\color{Red}{\\mathcal{A}}\\hspace{30pt} & \\color{Grey}{\\mathcal{U}} \\hspace{35pt} & \\color{royalblue}{\\mathcal{M}}\\hspace{30pt} \\end{matrix} \\\\\n",
    "\\begin{matrix} \\color{Red}{\\mathcal{A}} \\\\ \\color{grey}{\\mathcal{U}} \\\\\\color{royalblue}{\\mathcal{M}} \\end {matrix} \\begin{pmatrix} 1-x & x & 0 \\\\ y+0.5*g & 1-y-z-g & z+0.5*g \\\\ 0 & a & 1-a \\end{pmatrix}$$\n",
    "\n",
    "MT is the matrix for histones when we take into account their nucleation (which increases probability of methylation)\n",
    "\n",
    "$$\\mathbf{M_T}$$\n",
    "$$\\hspace{10pt} \\begin{matrix} \\hspace{12pt} \\color{Red}{\\mathcal{A}}\\hspace{10pt} & \\color{Grey}{\\mathcal{U}} \\hspace{10pt} & \\color{royalblue}{\\mathcal{M}}\\hspace{5pt} \\end{matrix} \\\\\n",
    "\\begin{matrix} \\color{Red}{\\mathcal{A}} \\\\ \\color{grey}{\\mathcal{U}} \\\\\\color{royalblue}{\\mathcal{M}} \\end {matrix} \n",
    "\\begin{pmatrix} -eps & 0 & eps \\\\ 0 & -eps & eps \\\\ 0 & 0 & 0 \\end{pmatrix}$$\n",
    "\n",
    "Mcoopa is the matrix of histones when one or two of their neighboors are $\\color{red}{\\mathsf{activated}}$, which increases its chances to be $\\color{red}{\\mathsf{activated}}$ itself\n",
    "\n",
    "$$\\mathbf{M_{coopa}}$$\n",
    "$$\\hspace{10pt} \\begin{matrix} \\hspace{5pt} \\color{Red}{\\mathcal{A}}\\hspace{3pt} & \\color{Grey}{\\mathcal{U}} \\hspace{2pt} & \\color{royalblue}{\\mathcal{M}}\\hspace{1pt} \\end{matrix} \\\\\n",
    "\\begin{matrix} \\color{Red}{\\mathcal{A}} \\\\ \\color{grey}{\\mathcal{U}} \\\\\\color{royalblue}{\\mathcal{M}} \\end {matrix}\n",
    "\\begin{pmatrix} 0 & 0 & 0 \\\\ 1 & -1 & 0 \\\\ 0 & 1 & -1 \\end{pmatrix}$$\n",
    "\n",
    "Mcoopm is the matrix of histones when one or two of their neighbors are $\\color{royalblue}{\\mathsf{methylated}}$, which increases its chances to be $\\color{royalblue}{\\mathsf{methylated}}$ itself\n",
    "\n",
    "$$\\mathbf{M_{coopm}}$$\n",
    "$$\\hspace{10pt} \\begin{matrix} \\hspace{8pt} \\color{Red}{\\mathcal{A}}\\hspace{3pt} & \\color{Grey}{\\mathcal{U}} \\hspace{-1pt} & \\color{royalblue}{\\mathcal{M}}\\hspace{0pt} \\end{matrix} \\\\\n",
    "\\begin{matrix} \\color{Red}{\\mathcal{A}} \\\\ \\color{grey}{\\mathcal{U}} \\\\\\color{royalblue}{\\mathcal{M}} \\end {matrix}\n",
    "\\begin{pmatrix} -1 & 1 & 0 \\\\ 0 & -1 & 1 \\\\ 0 & 0 & 0 \\end{pmatrix}$$\n",
    "\n",
    "$$M=M_0 + \\theta\\ M_T +(coopaM_{coopa}) +(coopmM_{coopm})$$"
   ]
  },
  {
   "cell_type": "markdown",
   "metadata": {},
   "source": [
    "## Let's try out our program!\n",
    "\n",
    "Start by importing the needed libraries "
   ]
  },
  {
   "cell_type": "code",
   "execution_count": null,
   "metadata": {},
   "outputs": [],
   "source": [
    "import importlib\n",
    "import numpy as np\n",
    "\n",
    "import nucleosome_simulation\n",
    "importlib.reload(nucleosome_simulation)\n",
    "from nucleosome_simulation import*\n",
    "\n",
    "import matplotlib.pyplot as plt\n",
    "\n",
    "import plot\n",
    "importlib.reload(plot)\n",
    "from plot import plot_nuc, histo_nuc, draw\n",
    "\n",
    "import saving \n",
    "importlib.reload(saving)\n",
    "from saving import save_nuc, load_nuc, unlist\n",
    "\n",
    "\n",
    "%matplotlib notebook\n",
    "plt.ion()"
   ]
  },
  {
   "cell_type": "markdown",
   "metadata": {},
   "source": [
    "If you want to check what every imported function does, please check the documents \"nucleosome simulation.py\", \"plot.py\" and \"saving.py\""
   ]
  },
  {
   "cell_type": "markdown",
   "metadata": {},
   "source": [
    "To generate new data and save it: launch box 1 (the simulation can take a little time)\n",
    "\n",
    "But we made it easier for you so you can just use the simulation that we made and sent you with this notebook. To do so launch box 2"
   ]
  },
  {
   "cell_type": "code",
   "execution_count": 1,
   "metadata": {},
   "outputs": [
    {
     "data": {
      "text/plain": [
       "'box 1'"
      ]
     },
     "execution_count": 1,
     "metadata": {},
     "output_type": "execute_result"
    }
   ],
   "source": [
    "\"\"\"box 1\"\"\"\n",
    "#nuc, act_hour = simulation(120,120)\n",
    "#save_nuc(nuc,\"nucléosomes_120120.txt\")\n",
    "#np.savetxt(\"valeurs_120120\",act_hour)"
   ]
  },
  {
   "cell_type": "code",
   "execution_count": null,
   "metadata": {},
   "outputs": [],
   "source": [
    "\"\"\"box 2\"\"\"\n",
    "nuc=load_nuc(\"nucléosomes_120120.txt\")\n",
    "act_hour= genfromtxt(\"nuc120120.txt\")"
   ]
  },
  {
   "cell_type": "markdown",
   "metadata": {},
   "source": [
    "\"nuc\" represents the state of the nucleosomes over time \n",
    "\"act_hour\" represents the gene activation per hour in every histone"
   ]
  },
  {
   "cell_type": "markdown",
   "metadata": {},
   "source": [
    "Gif Rana"
   ]
  },
  {
   "cell_type": "code",
   "execution_count": null,
   "metadata": {},
   "outputs": [],
   "source": [
    "draw(nuc)"
   ]
  },
  {
   "cell_type": "markdown",
   "metadata": {},
   "source": [
    "Kyrylo time"
   ]
  },
  {
   "cell_type": "code",
   "execution_count": null,
   "metadata": {},
   "outputs": [],
   "source": [
    "plt.rcParams['figure.figsize']=10,10\n",
    "\n",
    "figure =plt.figure(0)\n",
    "for i in range(len(nuc)):\n",
    "    plot_nuc(nuc[i],-2*i,figure)"
   ]
  },
  {
   "cell_type": "markdown",
   "metadata": {},
   "source": [
    "Forest green"
   ]
  },
  {
   "cell_type": "code",
   "execution_count": null,
   "metadata": {},
   "outputs": [],
   "source": [
    "figure= plt.figure(2)\n",
    "figure.clf()\n",
    "col=[\"dimgrey\" for i in range(120*24)]+[\"forestgreen\"for i in range(120*24)]+[\"dimgrey\" for i in range(60*24)]+[\"forestgreen\"for i in range(60*24)]\n",
    "figure.gca().scatter(np.array([i/24 for i in range(len(act_hour)+len(act2))]),act_hour+act2,alpha=0.2, color=col, s=30)"
   ]
  },
  {
   "cell_type": "markdown",
   "metadata": {},
   "source": [
    "## Conclusion\n",
    "### What is good with our model\n",
    "Includes a lot of parameters\n",
    "<br>\n",
    "Near to the article model\n",
    "<br>\n",
    "Many ways of schematic representation\n",
    "### What we could have improved\n",
    "Model the impact on cells\n",
    "<br>\n",
    "Study more the influence of the parameters\n",
    "<br>\n",
    "Could be improved by making it closer to real-time processes (unfortunately, it would be much more complex)\n"
   ]
  },
  {
   "cell_type": "markdown",
   "metadata": {},
   "source": [
    "## Authors contribution\n",
    "This work was done by equal collaboration of all participants on different level.\n",
    "However it's norlmal that each one of us has contributed to some parts more than to the others.\n",
    "\n",
    "\n",
    "\n",
    "## Acknowledgments: \n",
    "Special thanks to Ronan and Guillaume who helped us to chose the colors of our images."
   ]
  }
 ],
 "metadata": {
  "kernelspec": {
   "display_name": "Python 3",
   "language": "python",
   "name": "python3"
  },
  "language_info": {
   "codemirror_mode": {
    "name": "ipython",
    "version": 3
   },
   "file_extension": ".py",
   "mimetype": "text/x-python",
   "name": "python",
   "nbconvert_exporter": "python",
   "pygments_lexer": "ipython3",
   "version": "3.6.5"
  }
 },
 "nbformat": 4,
 "nbformat_minor": 2
}
